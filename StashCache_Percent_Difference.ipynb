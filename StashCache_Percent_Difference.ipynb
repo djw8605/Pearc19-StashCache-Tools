{
  "nbformat": 4,
  "nbformat_minor": 0,
  "metadata": {
    "colab": {
      "name": "StashCache Percent Difference",
      "version": "0.3.2",
      "provenance": [],
      "include_colab_link": true
    },
    "kernelspec": {
      "name": "python3",
      "display_name": "Python 3"
    }
  },
  "cells": [
    {
      "cell_type": "markdown",
      "metadata": {
        "id": "view-in-github",
        "colab_type": "text"
      },
      "source": [
        "<a href=\"https://colab.research.google.com/github/djw8605/Pearc19-StashCache-Tools/blob/master/StashCache_Percent_Difference.ipynb\" target=\"_parent\"><img src=\"https://colab.research.google.com/assets/colab-badge.svg\" alt=\"Open In Colab\"/></a>"
      ]
    },
    {
      "metadata": {
        "id": "aCdRJjDHLs7s",
        "colab_type": "code",
        "outputId": "e9ef8970-e5b2-40cd-d530-c0140c9a2554",
        "colab": {
          "base_uri": "https://localhost:8080/",
          "height": 266
        }
      },
      "cell_type": "code",
      "source": [
        "import pandas as pd\n",
        "import io\n",
        "bell_data = b'''\\\n",
        "File,HTTP,HTTP Cached,stashcp,stashcp Cached\n",
        "95perc.data,593548,330709,188170,104127\n",
        "25perc.data,40368,63929,12602,10141\n",
        "1perc.data,811,82,3172,1653\n",
        "big_blast.data,1373221,667589,569703,600365\n",
        "50perc.data,209167,29096,36023,28875\n",
        "75perc.data,115250,37430,25758,24749\n",
        "5perc.data,39473,21852,6522,2404\n",
        "'''\n",
        "bell_df = pd.read_csv(io.BytesIO(bell_data))\n",
        "nu_data = b'''\\\n",
        "File,HTTP,HTTP Cached,stashcp,stashcp Cached\n",
        "95perc.data,41936,26895,23464,23630\n",
        "25perc.data,1893,3891,4539,2471\n",
        "1perc.data,303,82,3466,1037\n",
        "big_blast.data,107924,104267,106650,102042\n",
        "50perc.data,5608,9592,10192,6139\n",
        "75perc.data,55947,5532,7179,6735\n",
        "5perc.data,2147,1040,6838,1062\n",
        "'''\n",
        "nu_df = pd.read_csv(io.BytesIO(nu_data))\n",
        "colorado_data = b'''\\\n",
        "File,HTTP,HTTP Cached,stashcp,stashcp Cached\n",
        "95perc.data,33231,25138,171042,152467\n",
        "25perc.data,2108,1598,16293,12261\n",
        "1perc.data,702,30,2381,2065\n",
        "big_blast.data,142787,151780,867209,525011\n",
        "50perc.data,7695,4670,37257,18394\n",
        "75perc.data,10885,4797,40700,29384\n",
        "5perc.data,3443,244,4306,4585\n",
        "'''\n",
        "colorado_df = pd.read_csv(io.BytesIO(colorado_data))\n",
        "mwt2_data = b'''\\\n",
        "File,HTTP,HTTP Cached,stashcp,stashcp Cached\n",
        "95perc.data,25943,26464,25061,34575\n",
        "25perc.data,3160,1659,4126,1956\n",
        "1perc.data,1898,42,1183,503\n",
        "big_blast.data,112637,123423,111614,113911\n",
        "50perc.data,5204,5843,10022,5870\n",
        "75perc.data,5654,5310,10143,6231\n",
        "5perc.data,825,195,545,788\n",
        "'''\n",
        "mwt2_df = pd.read_csv(io.BytesIO(mwt2_data))\n",
        "syr_data = b'''\\\n",
        "File,HTTP,HTTP Cached,stashcp,stashcp Cached\n",
        "95perc.data,63492,68778,135127,69400\n",
        "25perc.data,5568,2503,24237,8610\n",
        "1perc.data,147,79,13909,6148\n",
        "big_blast.data,319431,372661,379732,274453\n",
        "50perc.data,12444,11628,38162,19537\n",
        "75perc.data,14402,12302,45697,17505\n",
        "5perc.data,846,724,33924,3886\n",
        "'''\n",
        "syr_df = pd.read_csv(io.BytesIO(syr_data))\n",
        "mwt2_df"
      ],
      "execution_count": 0,
      "outputs": [
        {
          "output_type": "execute_result",
          "data": {
            "text/html": [
              "<div>\n",
              "<style scoped>\n",
              "    .dataframe tbody tr th:only-of-type {\n",
              "        vertical-align: middle;\n",
              "    }\n",
              "\n",
              "    .dataframe tbody tr th {\n",
              "        vertical-align: top;\n",
              "    }\n",
              "\n",
              "    .dataframe thead th {\n",
              "        text-align: right;\n",
              "    }\n",
              "</style>\n",
              "<table border=\"1\" class=\"dataframe\">\n",
              "  <thead>\n",
              "    <tr style=\"text-align: right;\">\n",
              "      <th></th>\n",
              "      <th>File</th>\n",
              "      <th>HTTP</th>\n",
              "      <th>HTTP Cached</th>\n",
              "      <th>stashcp</th>\n",
              "      <th>stashcp Cached</th>\n",
              "    </tr>\n",
              "  </thead>\n",
              "  <tbody>\n",
              "    <tr>\n",
              "      <th>0</th>\n",
              "      <td>95perc.data</td>\n",
              "      <td>25943</td>\n",
              "      <td>26464</td>\n",
              "      <td>25061</td>\n",
              "      <td>34575</td>\n",
              "    </tr>\n",
              "    <tr>\n",
              "      <th>1</th>\n",
              "      <td>25perc.data</td>\n",
              "      <td>3160</td>\n",
              "      <td>1659</td>\n",
              "      <td>4126</td>\n",
              "      <td>1956</td>\n",
              "    </tr>\n",
              "    <tr>\n",
              "      <th>2</th>\n",
              "      <td>1perc.data</td>\n",
              "      <td>1898</td>\n",
              "      <td>42</td>\n",
              "      <td>1183</td>\n",
              "      <td>503</td>\n",
              "    </tr>\n",
              "    <tr>\n",
              "      <th>3</th>\n",
              "      <td>big_blast.data</td>\n",
              "      <td>112637</td>\n",
              "      <td>123423</td>\n",
              "      <td>111614</td>\n",
              "      <td>113911</td>\n",
              "    </tr>\n",
              "    <tr>\n",
              "      <th>4</th>\n",
              "      <td>50perc.data</td>\n",
              "      <td>5204</td>\n",
              "      <td>5843</td>\n",
              "      <td>10022</td>\n",
              "      <td>5870</td>\n",
              "    </tr>\n",
              "    <tr>\n",
              "      <th>5</th>\n",
              "      <td>75perc.data</td>\n",
              "      <td>5654</td>\n",
              "      <td>5310</td>\n",
              "      <td>10143</td>\n",
              "      <td>6231</td>\n",
              "    </tr>\n",
              "    <tr>\n",
              "      <th>6</th>\n",
              "      <td>5perc.data</td>\n",
              "      <td>825</td>\n",
              "      <td>195</td>\n",
              "      <td>545</td>\n",
              "      <td>788</td>\n",
              "    </tr>\n",
              "  </tbody>\n",
              "</table>\n",
              "</div>"
            ],
            "text/plain": [
              "             File    HTTP  HTTP Cached  stashcp  stashcp Cached\n",
              "0     95perc.data   25943        26464    25061           34575\n",
              "1     25perc.data    3160         1659     4126            1956\n",
              "2      1perc.data    1898           42     1183             503\n",
              "3  big_blast.data  112637       123423   111614          113911\n",
              "4     50perc.data    5204         5843    10022            5870\n",
              "5     75perc.data    5654         5310    10143            6231\n",
              "6      5perc.data     825          195      545             788"
            ]
          },
          "metadata": {
            "tags": []
          },
          "execution_count": 18
        }
      ]
    },
    {
      "metadata": {
        "id": "pBDl-BB3MQJi",
        "colab_type": "code",
        "outputId": "2c554dd9-95e5-41cf-e3e2-cbf45d19e275",
        "colab": {
          "base_uri": "https://localhost:8080/",
          "height": 102
        }
      },
      "cell_type": "code",
      "source": [
        "def calc_difference(df):\n",
        "  for row in df.iterrows():\n",
        "    if row[1]['File'] == \"95perc.data\":\n",
        "      return ((row[1]['stashcp Cached'] - row[1]['HTTP Cached']) / row[1]['HTTP Cached']) * 100\n",
        "bell_perc_difference = calc_difference(bell_df)\n",
        "syr_perc_difference = calc_difference(syr_df)\n",
        "colorado_perc_difference = calc_difference(colorado_df)\n",
        "nu_perc_difference = calc_difference(nu_df)\n",
        "mwt2_perc_difference = calc_difference(mwt2_df)\n",
        "print(\"Bellarmine\",bell_perc_difference)\n",
        "print(\"Syracuse\",syr_perc_difference)\n",
        "print(\"Colorado\",colorado_perc_difference)\n",
        "print(\"Nebraska\",nu_perc_difference)\n",
        "print(\"Chicago\",mwt2_perc_difference)"
      ],
      "execution_count": 0,
      "outputs": [
        {
          "output_type": "stream",
          "text": [
            "Bellarmine -68.51401080708416\n",
            "Syracuse 0.904358951990462\n",
            "Colorado 506.52000954729897\n",
            "Nebraska -12.13980293734895\n",
            "Chicago 30.649183796856107\n"
          ],
          "name": "stdout"
        }
      ]
    },
    {
      "metadata": {
        "id": "NXO6AeByNipe",
        "colab_type": "code",
        "colab": {}
      },
      "cell_type": "code",
      "source": [
        ""
      ],
      "execution_count": 0,
      "outputs": []
    }
  ]
}